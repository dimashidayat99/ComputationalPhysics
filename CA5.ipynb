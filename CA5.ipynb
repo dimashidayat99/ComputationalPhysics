{
 "cells": [
  {
   "cell_type": "code",
   "execution_count": 91,
   "metadata": {},
   "outputs": [
    {
     "name": "stdout",
     "output_type": "stream",
     "text": [
      "[-4.02579112 -4.44608699 -3.00396376 ... -2.23021057 -0.9985864\n",
      " -2.45877338]\n"
     ]
    }
   ],
   "source": [
    "#example lecture notes\n",
    "import numpy as np\n",
    "\n",
    "\n",
    "n = 10000\n",
    "a = 0\n",
    "b = 1\n",
    "\n",
    "x = np.random.uniform(a,b,n)\n",
    "\n",
    "def f(x):\n",
    "    return np.exp(-x**2)\n",
    "\n",
    "I = (1/n)*sum(f(x))\n",
    "\n",
    "print(I)\n"
   ]
  },
  {
   "cell_type": "code",
   "execution_count": 17,
   "metadata": {},
   "outputs": [
    {
     "name": "stdout",
     "output_type": "stream",
     "text": [
      "0.24918252782897576\n"
     ]
    }
   ],
   "source": [
    "#Q5 a\n",
    "import numpy as np\n",
    "\n",
    "\n",
    "n = 10000\n",
    "a = 0\n",
    "b = 1\n",
    "\n",
    "x = np.random.uniform(a,b,n)\n",
    "\n",
    "def f(x):\n",
    "    return x*(1-x**2)\n",
    "\n",
    "I = (1/n)*sum(f(x))\n",
    "\n",
    "print(I)\n"
   ]
  },
  {
   "cell_type": "code",
   "execution_count": 20,
   "metadata": {},
   "outputs": [
    {
     "name": "stdout",
     "output_type": "stream",
     "text": [
      "0.9275085646649796\n"
     ]
    }
   ],
   "source": [
    "#Q1 b\n",
    "import numpy as np\n",
    "\n",
    "\n",
    "n = 10000\n",
    "a = 0\n",
    "b = 1\n",
    "\n",
    "x = np.random.uniform(a,b,n)\n",
    "\n",
    "def f(x):\n",
    "    return 1/(np.sqrt(1+x**4))\n",
    "\n",
    "I = (1/n)*sum(f(x))\n",
    "\n",
    "print(I)\n"
   ]
  },
  {
   "cell_type": "code",
   "execution_count": 21,
   "metadata": {},
   "outputs": [
    {
     "name": "stdout",
     "output_type": "stream",
     "text": [
      "0.13548868845760131\n"
     ]
    }
   ],
   "source": [
    "#Q1 c\n",
    "import numpy as np\n",
    "\n",
    "\n",
    "n = 10000\n",
    "a = 1\n",
    "b = 2\n",
    "\n",
    "x = np.random.uniform(a,b,n)\n",
    "\n",
    "def f(x):\n",
    "    return np.exp(-x**2)\n",
    "\n",
    "I = (1/n)*sum(f(x))\n",
    "\n",
    "print(I)\n"
   ]
  },
  {
   "cell_type": "code",
   "execution_count": 27,
   "metadata": {},
   "outputs": [
    {
     "name": "stdout",
     "output_type": "stream",
     "text": [
      "0.33314388316350857\n"
     ]
    }
   ],
   "source": [
    "#Q2\n",
    "import numpy as np\n",
    "\n",
    "\n",
    "n = 10000\n",
    "a = 0\n",
    "b = 1\n",
    "\n",
    "x1 = np.random.uniform(a,b,n)\n",
    "x2 = np.random.uniform(a,b,n)\n",
    "\n",
    "def f(x1,x2):\n",
    "    return 1-x1**2-x2**2\n",
    "\n",
    "I = 4*(1/n)*sum(f(x1,x2))\n",
    "\n",
    "print(I)\n"
   ]
  },
  {
   "cell_type": "code",
   "execution_count": 148,
   "metadata": {},
   "outputs": [
    {
     "name": "stdout",
     "output_type": "stream",
     "text": [
      "Area is 3.0974063902383957\n"
     ]
    },
    {
     "data": {
      "image/png": "[encoded data removed]",
      "text/plain": [
       "<Figure size 432x288 with 1 Axes>"
      ]
     },
     "metadata": {
      "needs_background": "light"
     },
     "output_type": "display_data"
    }
   ],
   "source": [
    "#Q5\n",
    "import matplotlib.pyplot as plt\n",
    "import numpy as np\n",
    "\n",
    "\n",
    "def func(x,a,b):\n",
    "    if (a<x<b):\n",
    "        return (x**2)*(np.exp(-(x**2)/2))\n",
    "    else:\n",
    "        return 0\n",
    "\n",
    "def areaMCMC(a,b,hops=10_0000):\n",
    "    current = np.random.uniform(a,b)\n",
    "    samples = []\n",
    "    for i in range(hops):\n",
    "        samples.append(current)\n",
    "        disturbance = np.random.uniform(-0.25,0.25)\n",
    "        movement = current + disturbance\n",
    "        \n",
    "        current_lik = func(x=current,a=a,b=b)\n",
    "        movement_lik = func(x=movement,a=a,b=b)\n",
    "        ratio = movement_lik/current_lik\n",
    "        \n",
    "        event = np.random.uniform(0,1.1)\n",
    "        if event <= ratio:\n",
    "            current = movement\n",
    "    return samples\n",
    "\n",
    "samples1 = areaMCMC(a=0,b=5)\n",
    "samples2 = areaMCMC(a=-5,b=0)\n",
    "\n",
    "answer1 = sum(samples1)/len(samples)\n",
    "answer2 = sum(samples2)/len(samples)\n",
    "\n",
    "A = abs(answer1) + abs(answer2) \n",
    "\n",
    "print(\"Area is\", A )\n",
    "\n",
    "def fs(x):\n",
    "    return (x**2)*(np.exp(-(x**2)/2))\n",
    "\n",
    "xs = np.arange(-5,5,0.1)\n",
    "\n",
    "plt.hist(samples1,density=True)\n",
    "plt.hist(samples2,density=True)\n",
    "plt.plot(xs,fs(xs),\"-k\")\n",
    "\n"
   ]
  },
  {
   "cell_type": "code",
   "execution_count": null,
   "metadata": {},
   "outputs": [],
   "source": []
  }
 ],
 "metadata": {
  "kernelspec": {
   "display_name": "Python 3",
   "language": "python",
   "name": "python3"
  },
  "language_info": {
   "codemirror_mode": {
    "name": "ipython",
    "version": 3
   },
   "file_extension": ".py",
   "mimetype": "text/x-python",
   "name": "python",
   "nbconvert_exporter": "python",
   "pygments_lexer": "ipython3",
   "version": "3.7.3"
  }
 },
 "nbformat": 4,
 "nbformat_minor": 2
}
