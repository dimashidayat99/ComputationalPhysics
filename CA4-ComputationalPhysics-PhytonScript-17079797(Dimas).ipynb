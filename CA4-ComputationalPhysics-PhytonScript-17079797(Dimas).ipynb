{
 "cells": [
  {
   "cell_type": "code",
   "execution_count": 3,
   "metadata": {},
   "outputs": [
    {
     "name": "stdout",
     "output_type": "stream",
     "text": [
      "[U11, U12, U13, U21, U22, U23, U31, U32, U33] = [[42.85714285714286], [63.16964285714286], [78.57142857142858], [33.25892857142858], [56.25000000000001], [76.11607142857143], [33.92857142857144], [52.45535714285716], [69.64285714285715]] respectively\n"
     ]
    }
   ],
   "source": [
    "import numpy as np\n",
    "from sympy import symbols, Eq, linear_eq_to_matrix\n",
    "from scipy.linalg import solve\n",
    "\n",
    "n   = 4\n",
    "Eqn = []\n",
    "u   = []\n",
    "v   = []\n",
    "X   = []\n",
    "#Create variables of U i.e. U00 until U44\n",
    "#u array for all variables from U00 until U44, v array for unknown variable U11,U12,U13,U21,U22,U23,U31,U32,U33\n",
    "\n",
    "for j in range(0,n+1):\n",
    "    for i in range(0,n+1):\n",
    "        u.append(str('U')+str(j)+str(i))\n",
    "        if   (j >0 and j < (n)) and (i>0 and i<(n)):\n",
    "            v.append(str('U')+str(j)+str(i))      \n",
    "        else:\n",
    "            None\n",
    "            \n",
    "u = symbols(u) #initialize variables to insert at linear equation using sympy\n",
    "U = np.reshape(u, (n+1,n+1)) #reshape to change u in the form of matrix\n",
    "\n",
    "#boundary condition using value given\n",
    "for i in range (1,n):\n",
    "    U[i,0] = 0\n",
    "    U[i,n] = 100\n",
    "    U[0,i] = 75\n",
    "    U[n,i] = 50\n",
    "\n",
    "#loop for creating linear simulatanous equation using sympy and insert the equation in array \"Eqn\"\n",
    "for i in range(1,n):\n",
    "    for j in range(1,n):\n",
    "        eqn = U[i+1,j]+U[i-1,j]+U[i,j+1]+U[i,j-1]-4*U[i,j]\n",
    "        Eqn.append(eqn)\n",
    "\n",
    "v = symbols(v) #initialize variables to insert function linear to matrix using sympy\n",
    "A, b = linear_eq_to_matrix(Eqn, v) #change all the linear equation in the form of matrix\n",
    "\n",
    "MatA = np.array(A).astype(np.float64) #Change Sympy matrix form to numpy matrix form \n",
    "MatB = np.array(b).astype(np.float64) \n",
    "\n",
    "x = solve(MatA,MatB) #linalg solve for Ax = B finding the U\n",
    "X = x.tolist()\n",
    "\n",
    "print(v, \"=\", X, \"respectively\")"
   ]
  },
  {
   "cell_type": "code",
   "execution_count": null,
   "metadata": {},
   "outputs": [],
   "source": []
  }
 ],
 "metadata": {
  "kernelspec": {
   "display_name": "Python 3",
   "language": "python",
   "name": "python3"
  },
  "language_info": {
   "codemirror_mode": {
    "name": "ipython",
    "version": 3
   },
   "file_extension": ".py",
   "mimetype": "text/x-python",
   "name": "python",
   "nbconvert_exporter": "python",
   "pygments_lexer": "ipython3",
   "version": "3.7.3"
  }
 },
 "nbformat": 4,
 "nbformat_minor": 2
}
