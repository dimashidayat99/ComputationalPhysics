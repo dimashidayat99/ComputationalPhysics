{
 "cells": [
  {
   "cell_type": "code",
   "execution_count": 205,
   "metadata": {},
   "outputs": [
    {
     "name": "stdout",
     "output_type": "stream",
     "text": [
      "[ 2.50000000e+00 -4.20585474e-17 -5.00000000e-01  1.23639867e-15\n",
      "  2.50000000e+00  1.34401950e-15 -5.00000000e-01  2.40383358e-15]\n"
     ]
    },
    {
     "name": "stderr",
     "output_type": "stream",
     "text": [
      "/home/dimas/anaconda3/lib/python3.7/site-packages/ipykernel_launcher.py:31: ComplexWarning: Casting complex values to real discards the imaginary part\n"
     ]
    },
    {
     "data": {
      "image/png": "[encoded data removed]",
      "text/plain": [
       "<Figure size 432x288 with 1 Axes>"
      ]
     },
     "metadata": {
      "needs_background": "light"
     },
     "output_type": "display_data"
    }
   ],
   "source": [
    "#fft x vs k\n",
    "import numpy as np\n",
    "import matplotlib.pyplot as plt\n",
    "\n",
    "nf = 5\n",
    "N = nf-1\n",
    "n = np.arange(1,nf+1,1)\n",
    "\n",
    "kf = 7\n",
    "k = np.arange(0,kf+1,1)\n",
    "#xk = np.zeros((kf+1,nf))\n",
    "xk = np.zeros((nf,kf+1))\n",
    "\n",
    "#e = np.zeros((kf+1,nf))\n",
    "e = np.zeros((nf,kf+1))\n",
    "\n",
    "#fn = np.zeros((kf+1,nf))\n",
    "fn = np.zeros((nf,kf+1))\n",
    "\n",
    "sn = 1/(np.sqrt(N))\n",
    "\n",
    "#for i in range(0,nf,1):\n",
    "#    for j in range(0,kf+1,1):\n",
    "#        xk[j,i] = np.cos(n[i]*(np.pi)*k[j])\n",
    "#        e[j,i] = np.exp(2j*(np.pi)*n[i]*k[j]/N)\n",
    "#        fn[j,i] = sn*xk[j,i]*e[j,i]\n",
    "        \n",
    "        \n",
    "for i in range(0,nf,1):\n",
    "    for j in range(0,kf+1,1):\n",
    "        xk[i,j] = np.cos(n[i]*(np.pi)*k[j])\n",
    "        e[i,j] = np.exp(2j*(np.pi)*n[i]*k[j]/N)\n",
    "        fn[i,j] = sn*xk[i,j]*e[i,j]\n",
    "\n",
    "\n",
    "DFT = fn[0]+fn[1]+fn[2]+fn[3]+fn[4]\n",
    "print(DFT)\n",
    "plt.plot(k,abs(DFT), \"xk\")\n",
    "plt.show()\n"
   ]
  },
  {
   "cell_type": "code",
   "execution_count": 208,
   "metadata": {},
   "outputs": [
    {
     "name": "stderr",
     "output_type": "stream",
     "text": [
      "/home/dimas/anaconda3/lib/python3.7/site-packages/ipykernel_launcher.py:19: ComplexWarning: Casting complex values to real discards the imaginary part\n"
     ]
    },
    {
     "name": "stdout",
     "output_type": "stream",
     "text": [
      "[[ 5.00000000e-01  5.00000000e-01  5.00000000e-01  5.00000000e-01\n",
      "   5.00000000e-01]\n",
      " [-3.06161700e-17 -5.00000000e-01  9.18485099e-17  5.00000000e-01\n",
      "  -1.53080850e-16]\n",
      " [-5.00000000e-01  5.00000000e-01 -5.00000000e-01  5.00000000e-01\n",
      "  -5.00000000e-01]\n",
      " [ 9.18485099e-17 -5.00000000e-01 -2.75545530e-16  5.00000000e-01\n",
      "   1.34742097e-15]\n",
      " [ 5.00000000e-01  5.00000000e-01  5.00000000e-01  5.00000000e-01\n",
      "   5.00000000e-01]\n",
      " [-1.53080850e-16 -5.00000000e-01  1.34742097e-15  5.00000000e-01\n",
      "   1.22774170e-16]\n",
      " [-5.00000000e-01  5.00000000e-01 -5.00000000e-01  5.00000000e-01\n",
      "  -5.00000000e-01]\n",
      " [ 2.14313190e-16 -5.00000000e-01  2.45238850e-16  5.00000000e-01\n",
      "   1.95974437e-15]]\n",
      "[4.77797362e-17 0.00000000e+00 1.46648418e-15 4.00000000e+00\n",
      " 3.29201200e-15]\n"
     ]
    },
    {
     "data": {
      "image/png": "[encoded data removed]",
      "text/plain": [
       "<Figure size 432x288 with 1 Axes>"
      ]
     },
     "metadata": {
      "needs_background": "light"
     },
     "output_type": "display_data"
    }
   ],
   "source": [
    "#fft x vs n\n",
    "import numpy as np\n",
    "import matplotlib.pyplot as plt\n",
    "\n",
    "nf = 5\n",
    "N = nf-1\n",
    "n = np.arange(1,nf+1,1)\n",
    "\n",
    "kf = 7\n",
    "k = np.arange(0,kf+1,1)\n",
    "xk = np.zeros((kf+1,nf))\n",
    "e = np.zeros((kf+1,nf))\n",
    "\n",
    "fn = np.zeros((kf+1,nf))\n",
    "sn = 1/(np.sqrt(N))\n",
    "\n",
    "for i in range(0,nf,1):\n",
    "    for j in range(0,kf+1,1):\n",
    "        xk[j,i] = np.cos(n[i]*(np.pi)*k[j])\n",
    "        e[j,i] = np.exp(2j*(np.pi)*n[i]*k[j]/N)\n",
    "        fn[j,i] = sn*xk[j,i]*e[j,i]\n",
    "\n",
    "print(fn)\n",
    "        \n",
    "DFT = fn[0]+fn[1]+fn[2]+fn[3]+fn[4]+fn[5]+fn[6]+fn[7]\n",
    "print(DFT)\n",
    "plt.plot(n,abs(DFT), \"xk\")\n",
    "plt.show()\n"
   ]
  },
  {
   "cell_type": "code",
   "execution_count": 236,
   "metadata": {},
   "outputs": [
    {
     "data": {
      "image/png": "[encoded data removed]",
      "text/plain": [
       "<Figure size 432x288 with 1 Axes>"
      ]
     },
     "metadata": {
      "needs_background": "light"
     },
     "output_type": "display_data"
    },
    {
     "data": {
      "image/png": "[encoded data removed]",
      "text/plain": [
       "<Figure size 432x288 with 1 Axes>"
      ]
     },
     "metadata": {
      "needs_background": "light"
     },
     "output_type": "display_data"
    },
    {
     "data": {
      "image/png": "[encoded data removed]",
      "text/plain": [
       "<Figure size 432x288 with 1 Axes>"
      ]
     },
     "metadata": {
      "needs_background": "light"
     },
     "output_type": "display_data"
    }
   ],
   "source": [
    "#FFT not sure\n",
    "import numpy as np\n",
    "import matplotlib.pyplot as plt\n",
    "from numpy.fft import fft,ifft\n",
    "\n",
    "x1 = np.arange(0,256)\n",
    "x2 = np.arange(256,768)\n",
    "x3 = np.arange(768,1024)\n",
    "\n",
    "f1 = np.full(shape=256,fill_value=0,dtype=np.int)\n",
    "f2 = np.full(shape=512,fill_value=1,dtype=np.int)\n",
    "f3 = np.full(shape=256,fill_value=0,dtype=np.int)\n",
    "\n",
    "plt.plot(x1,f1,\"r-\")\n",
    "plt.plot(x2,f2,\"r-\")\n",
    "plt.plot(x3,f3,\"r-\")\n",
    "\n",
    "plt.show()\n",
    "\n",
    "plt.plot(x1,fft(f1),\"-b\")\n",
    "plt.plot(x2,fft(f2),\"-b\")\n",
    "plt.plot(x3,fft(f3),\"-b\")\n",
    "\n",
    "plt.show()\n",
    "\n",
    "plt.plot(x1,ifft(f1),\"-y\")\n",
    "plt.plot(x2,ifft(f2),\"-y\")\n",
    "plt.plot(x3,ifft(f3),\"-y\")\n",
    "\n",
    "plt.show()"
   ]
  },
  {
   "cell_type": "code",
   "execution_count": null,
   "metadata": {},
   "outputs": [],
   "source": []
  }
 ],
 "metadata": {
  "kernelspec": {
   "display_name": "Python 3",
   "language": "python",
   "name": "python3"
  },
  "language_info": {
   "codemirror_mode": {
    "name": "ipython",
    "version": 3
   },
   "file_extension": ".py",
   "mimetype": "text/x-python",
   "name": "python",
   "nbconvert_exporter": "python",
   "pygments_lexer": "ipython3",
   "version": "3.7.3"
  }
 },
 "nbformat": 4,
 "nbformat_minor": 2
}
