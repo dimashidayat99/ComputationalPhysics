{
 "cells": [
  {
   "cell_type": "code",
   "execution_count": 11,
   "metadata": {},
   "outputs": [
    {
     "name": "stdout",
     "output_type": "stream",
     "text": [
      "Matrix A\n",
      "[[ 1 -2  3]\n",
      " [-4  5 -6]\n",
      " [ 7 -8  9]]\n",
      "Matrix U\n",
      "[[ 1. -2.  3.]\n",
      " [ 0. -3.  6.]\n",
      " [ 0.  0.  0.]]\n",
      "Matrix L\n",
      "[[ 1.  0.  0.]\n",
      " [-4.  1.  0.]\n",
      " [ 7. -2.  1.]]\n",
      "Matrik LU\n",
      "[[ 1. -2.  3.]\n",
      " [-4.  5. -6.]\n",
      " [ 7. -8.  9.]]\n"
     ]
    }
   ],
   "source": [
    "#dolittle decomposition algorithm\n",
    "\n",
    "A = np.array([[1, -2, 3], [-4, 5, -6], [7, -8, 9]])\n",
    "\n",
    "n = A.shape[0]\n",
    "    \n",
    "U = np.zeros((n, n))\n",
    "L = np.eye(n)\n",
    "\n",
    "\n",
    "for i in range(n):\n",
    "        \n",
    "    U[i, i:] = A[i, i:] - L[i,:i] @ U[:i,i:]\n",
    "    L[(i+1):,i] = (A[(i+1):,i] - L[(i+1):,:] @ U[:,i]) / U[i, i]\n",
    "    \n",
    "\n",
    "print(\"Matrix A\")\n",
    "print(A)\n",
    "print(\"Matrix U\")\n",
    "print(U)\n",
    "print(\"Matrix L\")\n",
    "print(L)\n",
    "\n",
    "#To Check\n",
    "NewA = L@U\n",
    "print(\"Matrik LU\")\n",
    "print(NewA)\n",
    "\n"
   ]
  },
  {
   "cell_type": "code",
   "execution_count": 19,
   "metadata": {},
   "outputs": [
    {
     "name": "stdout",
     "output_type": "stream",
     "text": [
      "Euclidean norm = 17.578395831246947\n"
     ]
    }
   ],
   "source": [
    "import numpy as np\n",
    "\n",
    "A = np.array([[5, -2, 3], [-4, 5, -6], [7, -8, 9]])\n",
    "\n",
    "n = A.shape[0]\n",
    "m = A.shape[1]\n",
    "\n",
    "A2 = []\n",
    "\n",
    "\n",
    "for i in range (0,n):\n",
    "    for k in range(0,m):\n",
    "        A2.append(abs(A[i,k]**2))\n",
    "\n",
    "for i in range (1,n*n):\n",
    "    SumA = A2[0]+A2[i]\n",
    "    A2[0] = SumA\n",
    "\n",
    "\n",
    "#Euclidean norm  \n",
    "EN = np.sqrt(SumA)\n",
    "print(\"Euclidean norm =\", EN)\n",
    "\n"
   ]
  },
  {
   "cell_type": "code",
   "execution_count": 9,
   "metadata": {},
   "outputs": [
    {
     "name": "stdout",
     "output_type": "stream",
     "text": [
      "3\n",
      "Infinity norm =  24\n"
     ]
    }
   ],
   "source": [
    "import numpy as np\n",
    "\n",
    "A = np.array([[1, -2, 3], [-4, 5, -6], [7, -8, 9]])\n",
    "\n",
    "n = A.shape[0]\n",
    "m = A.shape[1]\n",
    "\n",
    "ListARow = []\n",
    "\n",
    "\n",
    "for i in range (0,n):\n",
    "    SumARow = 0\n",
    "    for k in range(0,m):\n",
    "        SumARow += abs(A[i,k])\n",
    "\n",
    "    ListARow.append(SumARow)\n",
    "\n",
    "#Infinity norm\n",
    "IN = max(ListARow)\n",
    "print(\"Infinity norm = \", IN)\n",
    "\n"
   ]
  },
  {
   "cell_type": "code",
   "execution_count": 4,
   "metadata": {},
   "outputs": [
    {
     "name": "stdout",
     "output_type": "stream",
     "text": [
      "Verify solution\n",
      "[[0.]\n",
      " [1.]\n",
      " [2.]\n",
      " [3.]]\n",
      "\n",
      "1\n",
      "[0 0 0 0]\n",
      "[-0.25  0.5   1.    2.5 ]\n",
      "[-0.125   0.6875  1.75    2.6875]\n",
      "[-0.078125  0.90625   1.84375   2.90625 ]\n"
     ]
    }
   ],
   "source": [
    "import numpy as np\n",
    "from scipy.linalg import solve\n",
    "\n",
    "#Question 2)a) and 2)c)\n",
    "A = np.array([[4,-1,0,0],[-1,4,-1,0],[0,-1,4,-1],[-1,0,-1,4]])\n",
    "B = np.array([[-1],[2],[4],[10]])\n",
    "X = solve(A,B)\n",
    "\n",
    "print(\"Verify solution\")\n",
    "print(X)\n",
    "\n",
    "n=5\n",
    "\n",
    "xii = np.zeros(B.shape[0])\n",
    "x = np.array([0,0,0,0])\n",
    "xo = np.array([0,0,0,0])\n",
    "\n",
    "print()\n",
    "print(x)\n",
    "\n",
    "for k in range(3):\n",
    "    \n",
    "    for i in range(n-1):\n",
    "        \n",
    "        xi = (((B[i]-np.sum((A[i,(i+1):])*(x[(i+1):]))-np.sum((A[i,:i])*(x[:i]))))/(A[i,i]))\n",
    "        xii[i] = xi\n",
    "        \n",
    "    print(xii)\n",
    "    x = xii+xo"
   ]
  }
 ],
 "metadata": {
  "kernelspec": {
   "display_name": "Python 3",
   "language": "python",
   "name": "python3"
  },
  "language_info": {
   "codemirror_mode": {
    "name": "ipython",
    "version": 3
   },
   "file_extension": ".py",
   "mimetype": "text/x-python",
   "name": "python",
   "nbconvert_exporter": "python",
   "pygments_lexer": "ipython3",
   "version": "3.7.3"
  }
 },
 "nbformat": 4,
 "nbformat_minor": 2
}
